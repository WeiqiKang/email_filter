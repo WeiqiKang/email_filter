{
 "cells": [
  {
   "cell_type": "code",
   "execution_count": 8,
   "id": "initial_id",
   "metadata": {
    "collapsed": true,
    "ExecuteTime": {
     "end_time": "2023-12-23T10:30:33.180666600Z",
     "start_time": "2023-12-23T10:30:33.174720900Z"
    }
   },
   "outputs": [],
   "source": [
    "import pandas as pd\n",
    "import re"
   ]
  },
  {
   "cell_type": "code",
   "outputs": [
    {
     "data": {
      "text/plain": "['cnnmoney',\n 'the',\n 'opportunity',\n 'for',\n 'functional',\n 'beverages',\n 'is',\n 'estimated',\n 'at',\n 'billion',\n 'annually',\n 'in',\n 'the',\n 'u',\n 's',\n 'alone',\n 'and',\n 'expected',\n 'to',\n 'grow',\n 'over',\n 'percent',\n 'each',\n 'year',\n 'cbsnews',\n 'com',\n 'functional',\n 'beverages',\n 'are',\n 'becomming',\n 'a',\n 'multi',\n 'billion',\n 'dollar',\n 'industry',\n 'worldwide',\n 'we',\n 'are',\n 'comming',\n 'to',\n 'your',\n 'country',\n 'be',\n 'the',\n 'first',\n 'timing',\n 'is',\n 'perfect',\n 'sales',\n 'exploding',\n 'in',\n 'the',\n 'u',\n 's',\n 'and',\n 'canada',\n 'currently',\n 'and',\n 'in',\n 'each',\n 'new',\n 'country',\n 'that',\n 'opens',\n 'here',\n 'is',\n 'a',\n 'quick',\n 'overview',\n 'the',\n 'product',\n 'exclusive',\n 'himalayian',\n 'goji',\n 'juice',\n 'just',\n 'released',\n 'delicious',\n 'liquid',\n 'anti',\n 'aging',\n 'anti',\n 'oxidant',\n 'makes',\n 'you',\n 'feel',\n 'good',\n 'look',\n 'good',\n 'lose',\n 'weight',\n 'increases',\n 'your',\n 'energy',\n 'reduces',\n 'stress',\n 'much',\n 'more',\n 'tastes',\n 'great',\n 'formulated',\n 'by',\n 'dr',\n 'earl',\n 'mindell',\n 'world',\n 's',\n 'nutritionist',\n 'author',\n 'of',\n 'the',\n 'ny',\n 'times',\n 'bestseller',\n 'the',\n 'vitamin',\n 'bible',\n 'proven',\n 'debt',\n 'free',\n 'year',\n 'old',\n 'company',\n 'with',\n 'a',\n 'new',\n 'product',\n 'as',\n 'of',\n 'oct',\n 'is',\n 'expanding',\n 'into',\n 'new',\n 'countries',\n 'in',\n 'the',\n 'next',\n 'days',\n 'no',\n 'competition',\n 'company',\n 'looking',\n 'for',\n 'distributors',\n 'for',\n 'those',\n 'countries',\n 'if',\n 'you',\n 'want',\n 'to',\n 'be',\n 'the',\n 'first',\n 'distributor',\n 'in',\n 'your',\n 'country',\n 'then',\n 'go',\n 'to',\n 'the',\n 'link',\n 'below',\n 'for',\n 'more',\n 'details',\n 'rick',\n 'caffey',\n 'we',\n 'are',\n 'making',\n 'maximum',\n 'efforts',\n 'to',\n 'avoid',\n 'causing',\n 'inconveniences',\n 'to',\n 'those',\n 'who',\n 'do',\n 'not',\n 'wish',\n 'to',\n 'be',\n 'contacted',\n 'you',\n 'can',\n 'send',\n 'a',\n 'removal',\n 'request',\n 'by',\n 'clicking',\n 'on',\n 'the',\n 'enclosed',\n 'email',\n 'address',\n 'bizop',\n 'solutions',\n 'yahoo',\n 'com',\n 'and',\n 'putting',\n 'remove',\n 'in',\n 'the',\n 'sub',\n 'ject',\n 'line',\n 'we',\n 'apologize',\n 'if',\n 'we',\n 'have',\n 'troubled',\n 'you',\n 'in',\n 'any',\n 'way',\n 'thank',\n 'you',\n 'this',\n 'email',\n 'is',\n 'a',\n 'commercial',\n 'advertisement',\n 'emm',\n 'inc',\n 'green',\n 'valley',\n 'rd',\n 'cheyenne',\n 'wy',\n 'ljhif',\n 'eaz',\n 'yjwl',\n 'xbzptkxgznigmhwsxx',\n 'vxrkahgvr',\n 'tujtle',\n 'ifqoonm',\n 'ys',\n 'g',\n 'ytp',\n 'w',\n 'jrunr',\n 'ndgmrnahhgtbrgcozr']"
     },
     "execution_count": 17,
     "metadata": {},
     "output_type": "execute_result"
    }
   ],
   "source": [
    "def multi_line_to_single_line(input_string):\n",
    "    # 将字符串分割为多行\n",
    "    lines = input_string.splitlines()\n",
    "\n",
    "    # 使用列表推导式处理每行，并去除非英文字符（保留空格和英文字符）\n",
    "    processed_lines = [''.join(char for char in line if char.isalpha() or char.isspace()) for line in lines]\n",
    "\n",
    "    # 将处理后的行连接成一个单行字符串\n",
    "    single_line_string = ' '.join(processed_lines)\n",
    "\n",
    "    return single_line_string\n",
    "\n",
    "\n",
    "input_str = multi_line_to_single_line(\"\"\"cnnmoney the opportunity for functional beverages is\n",
    "estimated at $ 20 billion annually in the u . s . alone and\n",
    "expected to grow over 15 percent each year .\n",
    "cbsnews . com functional beverages are becomming a\n",
    "multi - billion dollar industry worldwide .\n",
    "we are comming to your country . . . be the first ! !\n",
    "timing is perfect , sales exploding in the u . s . and canada\n",
    "currently and in each new country that opens ! !\n",
    "here is a quick overview :\n",
    ": : the product : : exclusive ! !\n",
    "* himalayian goji juice ( just released )\n",
    "* delicious liquid anti - aging , anti - oxidant\n",
    "* makes you feel good , look good , lose weight\n",
    "* increases your energy , reduces stress , much more ! !\n",
    "* tastes great !\n",
    "* formulated by dr . earl mindell\n",
    "* world ' s # 1 nutritionist\n",
    "* author of the ny times bestseller : the vitamin bible\n",
    "proven , debt free , 9 year old company with a new product\n",
    "as of oct . 2003 , is expanding into 25 new countries in\n",
    "the next 60 days ! !\n",
    "no competition ! !\n",
    "company looking for distributors for those countries ! !\n",
    "if you want to be the first distributor in your country\n",
    "then go to the link below for more details ! !\n",
    "rick caffey\n",
    "307 - 433 - 8198\n",
    "we are making maximum efforts to avoid causing inconveniences to those who do not wish to be contacted . you can send a removal request by clicking on the enclosed email address bizop _ solutions @ yahoo . com and putting remove in the sub - ject line .\n",
    "we apologize if we have troubled you in any way !\n",
    "thank you\n",
    "this email is a commercial advertisement .\n",
    "emm inc\n",
    "3158 green valley rd\n",
    "cheyenne , wy 82001\n",
    "ljhif eaz yjwl xbzptkxgznigmhwsxx vxrkahgvr tujtle\n",
    "ifqoonm ys\n",
    "g ytp\n",
    "w\n",
    "jrunr ndgmrnahhgtbrgcozr\n",
    "\"\"\")\n",
    "word_list = input_str.split()\n",
    "[word.lower() for word in word_list if len(word_list) > 2 and len(word) > 0]  # 字母都转换成小写，过滤掉长度为0的单词\n"
   ],
   "metadata": {
    "collapsed": false,
    "ExecuteTime": {
     "end_time": "2023-12-23T10:35:55.206281100Z",
     "start_time": "2023-12-23T10:35:55.188753700Z"
    }
   },
   "id": "af509fb1692b55ee",
   "execution_count": 17
  },
  {
   "cell_type": "code",
   "outputs": [],
   "source": [
    "doc_list = []  # 每句话的单词列表\n",
    "class_list = []  # 每句话是否是垃圾邮件，1表示是\n",
    "\n",
    "df = pd.read_csv(\"./data/SECD.csv\")\n",
    "header = df.columns.values.tolist()\n",
    "datas = df.values.tolist()\n",
    "\n",
    "for data in datas:\n",
    "    label, text = data[0], data[1]\n",
    "    doc_list.append(text_parse(text))\n",
    "    class_list.append(label)"
   ],
   "metadata": {
    "collapsed": false,
    "ExecuteTime": {
     "end_time": "2023-12-23T08:35:09.124255600Z",
     "start_time": "2023-12-23T08:35:09.051533100Z"
    }
   },
   "id": "26841051ee4b57da",
   "execution_count": 2
  },
  {
   "cell_type": "code",
   "outputs": [],
   "source": [],
   "metadata": {
    "collapsed": false
   },
   "id": "ade7496382123c58"
  }
 ],
 "metadata": {
  "kernelspec": {
   "display_name": "Python 3",
   "language": "python",
   "name": "python3"
  },
  "language_info": {
   "codemirror_mode": {
    "name": "ipython",
    "version": 2
   },
   "file_extension": ".py",
   "mimetype": "text/x-python",
   "name": "python",
   "nbconvert_exporter": "python",
   "pygments_lexer": "ipython2",
   "version": "2.7.6"
  }
 },
 "nbformat": 4,
 "nbformat_minor": 5
}
